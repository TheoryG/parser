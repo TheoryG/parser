{
 "cells": [
  {
   "cell_type": "code",
   "execution_count": null,
   "metadata": {
    "collapsed": true
   },
   "outputs": [],
   "source": [
    "import gzip\n",
    "import struct\n",
    "import csv\n",
    "\n",
    "\n",
    "\n",
    "def read_binary_file(size):\n",
    "    read = bin_data.read(size);\n",
    "    return read;\n",
    "\n",
    "def system_event_message(msg):\n",
    "    msg_type = 'S';\n",
    "    temp = struct.unpack('>HH6sc',msg);\n",
    "    new_msg = struct.pack('>sHH2s6sc',msg_type,temp[0],temp[1],'x\\00x\\00',temp[2],temp[3]);\n",
    "    val = struct.unpack('>cHHQc',new_msg);\n",
    "    val = list(val);\n",
    "    return val;\n",
    "\n",
    "bin_data = gzip.open('C:/Users/GZW/Desktop/WORK/Trexquant/01302019.NASDAQ_ITCH50.gz','rb');\n",
    "out_file = open('parsed_data.csv','wb');\n",
    "writer = csv.writer(out_file);\n",
    "message_type = bin_data.read(1);\n",
    "while message_type:\n",
    "    if message_type == \"S\":\n",
    "        message = read_binary_file(11);\n",
    "        parsed_data = system_event_message(message);\n",
    "        writer.writerow(parsed_data)\n",
    "    message_type = bin_data.read(1);\n",
    "\t\n",
    "bin_data.close();\n",
    "out_file.close();"
   ]
  }
 ],
 "metadata": {
  "kernelspec": {
   "display_name": "Python 3",
   "language": "python",
   "name": "python3"
  },
  "language_info": {
   "codemirror_mode": {
    "name": "ipython",
    "version": 3
   },
   "file_extension": ".py",
   "mimetype": "text/x-python",
   "name": "python",
   "nbconvert_exporter": "python",
   "pygments_lexer": "ipython3",
   "version": "3.6.3"
  }
 },
 "nbformat": 4,
 "nbformat_minor": 2
}
